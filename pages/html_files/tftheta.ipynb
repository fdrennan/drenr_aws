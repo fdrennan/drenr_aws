{
 "cells": [
  {
   "cell_type": "markdown",
   "metadata": {},
   "source": [
    "## Simple Linear Regression Using Tensorflow\n",
    "\n",
    "Examples modified from Hands-On Machine Learning with Scikit-Learn & Tensorflow"
   ]
  },
  {
   "cell_type": "markdown",
   "metadata": {},
   "source": [
    "Using some matrix algebra we can calculate coefficients for a linear regression model. Theta is this vector and it is calculated with the formula below where $X$ is a matrix of features and $y$ is the label vector. We will run this model below using Tensorflow.\n",
    "\n",
    "$$\n",
    "\\hat{\\theta} = (X^T\\cdot X)^{-1}\\cdot X^{T}\\cdot y\n",
    "$$"
   ]
  },
  {
   "cell_type": "code",
   "execution_count": 1,
   "metadata": {},
   "outputs": [
    {
     "name": "stderr",
     "output_type": "stream",
     "text": [
      "/anaconda3/lib/python3.6/site-packages/h5py/__init__.py:36: FutureWarning: Conversion of the second argument of issubdtype from `float` to `np.floating` is deprecated. In future, it will be treated as `np.float64 == np.dtype(float).type`.\n",
      "  from ._conv import register_converters as _register_converters\n"
     ]
    }
   ],
   "source": [
    "import numpy as np\n",
    "import tensorflow as tf"
   ]
  },
  {
   "cell_type": "code",
   "execution_count": 2,
   "metadata": {},
   "outputs": [],
   "source": [
    "from sklearn.datasets import fetch_california_housing"
   ]
  },
  {
   "cell_type": "code",
   "execution_count": 3,
   "metadata": {},
   "outputs": [],
   "source": [
    "housing = fetch_california_housing()\n",
    "m, n = housing.data.shape"
   ]
  },
  {
   "cell_type": "code",
   "execution_count": 4,
   "metadata": {},
   "outputs": [
    {
     "name": "stdout",
     "output_type": "stream",
     "text": [
      "California housing dataset.\n",
      "\n",
      "The original database is available from StatLib\n",
      "\n",
      "    http://lib.stat.cmu.edu/datasets/\n",
      "\n",
      "The data contains 20,640 observations on 9 variables.\n",
      "\n",
      "This dataset contains the average house value as target variable\n",
      "and the following input variables (features): average income,\n",
      "housing average age, average rooms, average bedrooms, population,\n",
      "average occupation, latitude, and longitude in that order.\n",
      "\n",
      "References\n",
      "----------\n",
      "\n",
      "Pace, R. Kelley and Ronald Barry, Sparse Spatial Autoregressions,\n",
      "Statistics and Probability Letters, 33 (1997) 291-297.\n",
      "\n",
      "\n"
     ]
    }
   ],
   "source": [
    "print(housing.DESCR)"
   ]
  },
  {
   "cell_type": "code",
   "execution_count": 5,
   "metadata": {},
   "outputs": [],
   "source": [
    "housing_data_plus_bias = np.c_[np.ones((m, 1)), housing.data]"
   ]
  },
  {
   "cell_type": "markdown",
   "metadata": {},
   "source": [
    "We add a row of ones. This will give us a y intercept."
   ]
  },
  {
   "cell_type": "code",
   "execution_count": 6,
   "metadata": {},
   "outputs": [
    {
     "data": {
      "text/plain": [
       "array([[ 1.    ,  8.3252, 41.    ],\n",
       "       [ 1.    ,  8.3014, 21.    ],\n",
       "       [ 1.    ,  7.2574, 52.    ],\n",
       "       ...,\n",
       "       [ 1.    ,  1.7   , 17.    ],\n",
       "       [ 1.    ,  1.8672, 18.    ],\n",
       "       [ 1.    ,  2.3886, 16.    ]])"
      ]
     },
     "execution_count": 6,
     "metadata": {},
     "output_type": "execute_result"
    }
   ],
   "source": [
    "housing_data_plus_bias[:,:3]"
   ]
  },
  {
   "cell_type": "code",
   "execution_count": 7,
   "metadata": {},
   "outputs": [],
   "source": [
    "X = tf.constant(\n",
    "    housing_data_plus_bias, \n",
    "    dtype = tf.float32,\n",
    "    name = \"X\"\n",
    ")\n",
    "\n",
    "y = tf.constant(\n",
    "    housing.target.reshape(-1, 1),\n",
    "    dtype = tf.float32,\n",
    "    name = \"y\"\n",
    ")\n",
    "\n",
    "XT = tf.transpose(X)\n",
    "\n",
    "theta = tf.matmul(tf.matmul(tf.matrix_inverse(tf.matmul(XT, X)), XT), y)"
   ]
  },
  {
   "cell_type": "markdown",
   "metadata": {},
   "source": [
    "Next will actually run the model we built above."
   ]
  },
  {
   "cell_type": "code",
   "execution_count": 8,
   "metadata": {},
   "outputs": [],
   "source": [
    "with tf.Session() as sess:\n",
    "    theta_value = theta.eval()"
   ]
  },
  {
   "cell_type": "markdown",
   "metadata": {},
   "source": [
    "The theta output is shown below. The first value is the intercept."
   ]
  },
  {
   "cell_type": "code",
   "execution_count": 9,
   "metadata": {},
   "outputs": [
    {
     "data": {
      "text/plain": [
       "array([[-37.2],\n",
       "       [  0.4],\n",
       "       [  0. ],\n",
       "       [ -0.1],\n",
       "       [  0.6],\n",
       "       [ -0. ],\n",
       "       [ -0. ],\n",
       "       [ -0.4],\n",
       "       [ -0.4]], dtype=float32)"
      ]
     },
     "execution_count": 9,
     "metadata": {},
     "output_type": "execute_result"
    }
   ],
   "source": [
    "theta_value.round(1)"
   ]
  },
  {
   "cell_type": "code",
   "execution_count": 10,
   "metadata": {},
   "outputs": [],
   "source": [
    "predictions = []\n",
    "row = housing.data[:1000,:]\n",
    "predictions.append(theta_value[:1] + row.dot(theta_value[1:9]))"
   ]
  },
  {
   "cell_type": "code",
   "execution_count": 11,
   "metadata": {},
   "outputs": [],
   "source": [
    "import matplotlib.pyplot as plt\n",
    "%matplotlib inline"
   ]
  },
  {
   "cell_type": "markdown",
   "metadata": {},
   "source": [
    "We can visualize our predicted values versus the actual values. Perfectly predicted values will result in a straight-line."
   ]
  },
  {
   "cell_type": "code",
   "execution_count": 12,
   "metadata": {},
   "outputs": [],
   "source": [
    "predictions = np.asarray(predictions)"
   ]
  },
  {
   "cell_type": "code",
   "execution_count": 13,
   "metadata": {},
   "outputs": [],
   "source": [
    "target = housing.target[:1000]\n",
    "target = target.reshape(1, -1)\n",
    "predictions = predictions.reshape(1, -1)"
   ]
  },
  {
   "cell_type": "code",
   "execution_count": 14,
   "metadata": {},
   "outputs": [
    {
     "data": {
      "image/png": "[encoded data removed]",
      "text/plain": [
       "<matplotlib.figure.Figure at 0x1a2cbca518>"
      ]
     },
     "metadata": {},
     "output_type": "display_data"
    }
   ],
   "source": [
    "plt.figure(figsize=(15,8))\n",
    "plt.scatter(target, predictions, alpha=0.9, s = 2)\n",
    "plt.xlabel('Target')\n",
    "plt.ylabel('Predictions')\n",
    "plt.title('Predictions vs. Actual')\n",
    "plt.show()"
   ]
  },
  {
   "cell_type": "markdown",
   "metadata": {},
   "source": [
    "## Implementing Gradient Descent\n",
    "\n",
    "### Manually Computing the Gradients"
   ]
  },
  {
   "cell_type": "code",
   "execution_count": 15,
   "metadata": {},
   "outputs": [],
   "source": [
    "n_epochs = 1000\n",
    "learning_rate = 0.01"
   ]
  },
  {
   "cell_type": "code",
   "execution_count": 16,
   "metadata": {},
   "outputs": [],
   "source": [
    "from sklearn.preprocessing import MinMaxScaler\n",
    "scaler = MinMaxScaler()\n",
    "scaler.fit(housing_data_plus_bias)\n",
    "scaled_housing = scaler.transform(housing_data_plus_bias)"
   ]
  },
  {
   "cell_type": "code",
   "execution_count": 17,
   "metadata": {},
   "outputs": [
    {
     "name": "stdout",
     "output_type": "stream",
     "text": [
      "Epoch 0 MSE = 7.9621005\n",
      "Epoch 100 MSE = 1.9168667\n",
      "Epoch 200 MSE = 1.4873219\n",
      "Epoch 300 MSE = 1.3921164\n",
      "Epoch 400 MSE = 1.3262887\n",
      "Epoch 500 MSE = 1.2701684\n",
      "Epoch 600 MSE = 1.2209827\n",
      "Epoch 700 MSE = 1.1773533\n",
      "Epoch 800 MSE = 1.1382849\n",
      "Epoch 900 MSE = 1.1030253\n"
     ]
    }
   ],
   "source": [
    "X = tf.constant(\n",
    "    scaled_housing,\n",
    "    dtype=tf.float32,\n",
    "    name = \"X\"\n",
    ")\n",
    "\n",
    "y = tf.constant(\n",
    "    housing.target.reshape(-1, 1),\n",
    "    dtype=tf.float32,\n",
    "    name = \"y\"\n",
    ")\n",
    "\n",
    "theta = tf.Variable(\n",
    "    tf.random_uniform([n + 1, 1], -1.0, 1.0),\n",
    "    name = \"theta\"\n",
    ")\n",
    "\n",
    "y_pred = tf.matmul(X, theta, name = \"predictions\")\n",
    "\n",
    "error = y_pred - y\n",
    "\n",
    "# Computes the mean of elements across dimensions of a tensor\n",
    "mse = tf.reduce_mean(\n",
    "    tf.square(error), \n",
    "    name = \"mse\"\n",
    ")\n",
    "\n",
    "gradients = 2 / m * tf.matmul(tf.transpose(X), error)\n",
    "\n",
    "training_op = tf.assign(theta, theta - learning_rate * gradients)\n",
    "\n",
    "init = tf.global_variables_initializer()\n",
    "\n",
    "logs_dir = './events_tf'\n",
    "\n",
    "tf.summary.scalar('training_op', training_op)\n",
    "\n",
    "with tf.Session() as sess:\n",
    "\n",
    "    writer = tf.summary.FileWriter(logs_dir)\n",
    "    writer.add_graph(sess.graph)\n",
    "\n",
    "    sess.run(init)\n",
    "    \n",
    "    for epoch in range(n_epochs):\n",
    "        \n",
    "        if epoch % 100 == 0:\n",
    "            print(\"Epoch\", epoch, \"MSE =\", mse.eval())\n",
    "        sess.run(training_op)\n",
    "        \n",
    "    best_theta = theta.eval()\n",
    "    \n",
    "writer.close()"
   ]
  },
  {
   "cell_type": "code",
   "execution_count": null,
   "metadata": {},
   "outputs": [],
   "source": []
  }
 ],
 "metadata": {
  "kernelspec": {
   "display_name": "Python 3",
   "language": "python",
   "name": "python3"
  },
  "language_info": {
   "codemirror_mode": {
    "name": "ipython",
    "version": 3
   },
   "file_extension": ".py",
   "mimetype": "text/x-python",
   "name": "python",
   "nbconvert_exporter": "python",
   "pygments_lexer": "ipython3",
   "version": "3.6.4"
  }
 },
 "nbformat": 4,
 "nbformat_minor": 2
}
