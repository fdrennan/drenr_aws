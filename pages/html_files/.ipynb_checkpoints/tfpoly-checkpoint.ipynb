{
 "cells": [
  {
   "cell_type": "markdown",
   "metadata": {},
   "source": [
    "## Simple Linear Regression Using Tensorflow\n",
    "\n",
    "Examples modified from Hands-On Machine Learning with Scikit-Learn & Tensorflow"
   ]
  },
  {
   "cell_type": "markdown",
   "metadata": {},
   "source": [
    "Using some matrix algebra we can calculate coefficients for a linear regression model. Theta is this vector and it is calculated with the formula below where $X$ is a matrix of features and $y$ is the label vector. We will run this model below using Tensorflow.\n",
    "\n",
    "$$\n",
    "\\hat{\\theta} = (X^T\\cdot X)^{-1}\\cdot X^{T}\\cdot y\n",
    "$$"
   ]
  },
  {
   "cell_type": "code",
   "execution_count": 1,
   "metadata": {},
   "outputs": [
    {
     "name": "stderr",
     "output_type": "stream",
     "text": [
      "/anaconda3/lib/python3.6/site-packages/h5py/__init__.py:36: FutureWarning: Conversion of the second argument of issubdtype from `float` to `np.floating` is deprecated. In future, it will be treated as `np.float64 == np.dtype(float).type`.\n",
      "  from ._conv import register_converters as _register_converters\n"
     ]
    }
   ],
   "source": [
    "import numpy as np\n",
    "from sklearn.datasets import fetch_california_housing\n",
    "import tensorflow as tf\n",
    "import pandas as pd\n",
    "import matplotlib.pyplot as plt\n",
    "%matplotlib inline\n",
    "\n",
    "import tensorflow as tf"
   ]
  },
  {
   "cell_type": "code",
   "execution_count": 2,
   "metadata": {},
   "outputs": [],
   "source": [
    "n_values = 100"
   ]
  },
  {
   "cell_type": "code",
   "execution_count": 3,
   "metadata": {},
   "outputs": [],
   "source": [
    "x_values = np.linspace(-50, 50, n_values)\n",
    "y_values = 10 + 2*x_values**2 + 3*x_values**3 + np.random.normal(40000, 40000, n_values)\n",
    "# y_values = 10 + 2*x_values"
   ]
  },
  {
   "cell_type": "code",
   "execution_count": 4,
   "metadata": {},
   "outputs": [
    {
     "data": {
      "text/plain": [
       "<matplotlib.collections.PathCollection at 0x1a24a04f60>"
      ]
     },
     "execution_count": 4,
     "metadata": {},
     "output_type": "execute_result"
    },
    {
     "data": {
      "image/png": "[encoded data removed]",
      "text/plain": [
       "<matplotlib.figure.Figure at 0x1a1baca860>"
      ]
     },
     "metadata": {},
     "output_type": "display_data"
    }
   ],
   "source": [
    "plt.scatter(x_values, y_values)"
   ]
  },
  {
   "cell_type": "code",
   "execution_count": 5,
   "metadata": {},
   "outputs": [],
   "source": [
    "df = pd.DataFrame(data = [x_values, x_values**2, y_values]).T\n",
    "df = df.rename(columns = {0: 'x', 1: 'x_square', 2: 'y'})"
   ]
  },
  {
   "cell_type": "code",
   "execution_count": 6,
   "metadata": {},
   "outputs": [],
   "source": [
    "m, n = df.shape"
   ]
  },
  {
   "cell_type": "markdown",
   "metadata": {},
   "source": [
    "We add a row of ones. This will give us a y intercept."
   ]
  },
  {
   "cell_type": "code",
   "execution_count": 13,
   "metadata": {},
   "outputs": [],
   "source": [
    "df_plus_bias = np.c_[np.ones((m, 1)), df]\n",
    "df_features = df_plus_bias[:,:3]\n",
    "df_target = df_plus_bias[:, 3:4]"
   ]
  },
  {
   "cell_type": "markdown",
   "metadata": {},
   "source": [
    "Next will actually run the model we built above."
   ]
  },
  {
   "cell_type": "markdown",
   "metadata": {},
   "source": [
    "The theta output is shown below. The first value is the intercept."
   ]
  },
  {
   "cell_type": "markdown",
   "metadata": {},
   "source": [
    "We can visualize our predicted values versus the actual values. Perfectly predicted values will result in a straight-line."
   ]
  },
  {
   "cell_type": "markdown",
   "metadata": {},
   "source": [
    "## Implementing Gradient Descent\n",
    "\n",
    "### Manually Computing the Gradients"
   ]
  },
  {
   "cell_type": "code",
   "execution_count": 8,
   "metadata": {},
   "outputs": [],
   "source": [
    "n_epochs = 1000\n",
    "learning_rate = 0.000001"
   ]
  },
  {
   "cell_type": "code",
   "execution_count": 12,
   "metadata": {},
   "outputs": [
    {
     "name": "stdout",
     "output_type": "stream",
     "text": [
      "Epoch 0 MSE = 26876120000.0\n",
      "Epoch 100 MSE = inf\n",
      "Epoch 200 MSE = nan\n",
      "Epoch 300 MSE = nan\n",
      "Epoch 400 MSE = nan\n",
      "Epoch 500 MSE = nan\n",
      "Epoch 600 MSE = nan\n",
      "Epoch 700 MSE = nan\n",
      "Epoch 800 MSE = nan\n",
      "Epoch 900 MSE = nan\n",
      "Epoch 1000 MSE = nan\n",
      "Epoch 1100 MSE = nan\n",
      "Epoch 1200 MSE = nan\n",
      "Epoch 1300 MSE = nan\n",
      "Epoch 1400 MSE = nan\n",
      "Epoch 1500 MSE = nan\n",
      "Epoch 1600 MSE = nan\n",
      "Epoch 1700 MSE = nan\n",
      "Epoch 1800 MSE = nan\n",
      "Epoch 1900 MSE = nan\n",
      "Epoch 2000 MSE = nan\n",
      "Epoch 2100 MSE = nan\n",
      "Epoch 2200 MSE = nan\n",
      "Epoch 2300 MSE = nan\n",
      "Epoch 2400 MSE = nan\n",
      "Epoch 2500 MSE = nan\n",
      "Epoch 2600 MSE = nan\n",
      "Epoch 2700 MSE = nan\n",
      "Epoch 2800 MSE = nan\n",
      "Epoch 2900 MSE = nan\n",
      "Epoch 3000 MSE = nan\n",
      "Epoch 3100 MSE = nan\n",
      "Epoch 3200 MSE = nan\n",
      "Epoch 3300 MSE = nan\n",
      "Epoch 3400 MSE = nan\n",
      "Epoch 3500 MSE = nan\n",
      "Epoch 3600 MSE = nan\n",
      "Epoch 3700 MSE = nan\n",
      "Epoch 3800 MSE = nan\n",
      "Epoch 3900 MSE = nan\n",
      "Epoch 4000 MSE = nan\n",
      "Epoch 4100 MSE = nan\n",
      "Epoch 4200 MSE = nan\n",
      "Epoch 4300 MSE = nan\n",
      "Epoch 4400 MSE = nan\n",
      "Epoch 4500 MSE = nan\n",
      "Epoch 4600 MSE = nan\n",
      "Epoch 4700 MSE = nan\n",
      "Epoch 4800 MSE = nan\n",
      "Epoch 4900 MSE = nan\n",
      "Epoch 5000 MSE = nan\n",
      "Epoch 5100 MSE = nan\n",
      "Epoch 5200 MSE = nan\n",
      "Epoch 5300 MSE = nan\n",
      "Epoch 5400 MSE = nan\n",
      "Epoch 5500 MSE = nan\n",
      "Epoch 5600 MSE = nan\n",
      "Epoch 5700 MSE = nan\n",
      "Epoch 5800 MSE = nan\n",
      "Epoch 5900 MSE = nan\n",
      "Epoch 6000 MSE = nan\n",
      "Epoch 6100 MSE = nan\n",
      "Epoch 6200 MSE = nan\n",
      "Epoch 6300 MSE = nan\n",
      "Epoch 6400 MSE = nan\n",
      "Epoch 6500 MSE = nan\n",
      "Epoch 6600 MSE = nan\n",
      "Epoch 6700 MSE = nan\n",
      "Epoch 6800 MSE = nan\n",
      "Epoch 6900 MSE = nan\n",
      "Epoch 7000 MSE = nan\n",
      "Epoch 7100 MSE = nan\n",
      "Epoch 7200 MSE = nan\n",
      "Epoch 7300 MSE = nan\n",
      "Epoch 7400 MSE = nan\n",
      "Epoch 7500 MSE = nan\n",
      "Epoch 7600 MSE = nan\n",
      "Epoch 7700 MSE = nan\n",
      "Epoch 7800 MSE = nan\n",
      "Epoch 7900 MSE = nan\n",
      "Epoch 8000 MSE = nan\n",
      "Epoch 8100 MSE = nan\n",
      "Epoch 8200 MSE = nan\n",
      "Epoch 8300 MSE = nan\n",
      "Epoch 8400 MSE = nan\n",
      "Epoch 8500 MSE = nan\n",
      "Epoch 8600 MSE = nan\n",
      "Epoch 8700 MSE = nan\n",
      "Epoch 8800 MSE = nan\n",
      "Epoch 8900 MSE = nan\n",
      "Epoch 9000 MSE = nan\n",
      "Epoch 9100 MSE = nan\n",
      "Epoch 9200 MSE = nan\n",
      "Epoch 9300 MSE = nan\n",
      "Epoch 9400 MSE = nan\n",
      "Epoch 9500 MSE = nan\n",
      "Epoch 9600 MSE = nan\n",
      "Epoch 9700 MSE = nan\n",
      "Epoch 9800 MSE = nan\n",
      "Epoch 9900 MSE = nan\n"
     ]
    }
   ],
   "source": [
    "# X is the matrix that contains all of our independent features.\n",
    "X = tf.constant(\n",
    "    df_features,\n",
    "    dtype=tf.float32,\n",
    "    name = \"X\"\n",
    ")\n",
    "\n",
    "# y contains a vector of correct values for the features\n",
    "y = tf.constant(\n",
    "    df_target.reshape(-1, 1),\n",
    "    dtype=tf.float32,\n",
    "    name = \"y\"\n",
    ")\n",
    "\n",
    "# theta is initialized with random numbers\n",
    "# this is what the algorithm will vary to create a solution\n",
    "theta = tf.Variable(\n",
    "    tf.random_uniform([2 + 1, 1], -1.0, 1.0),\n",
    "    name = \"theta\"\n",
    ")\n",
    "\n",
    "# using matrix multiplication, we get a predicted y value\n",
    "y_pred = tf.matmul(X, theta, name = \"predictions\")\n",
    "\n",
    "# the prediction error is the difference between the true value and the predicted value\n",
    "error = y_pred - y\n",
    "\n",
    "# Computes the mean of elements across dimensions of a tensor\n",
    "# this is what we want to minimize - RMSE\n",
    "mse = tf.reduce_mean(\n",
    "    tf.square(error), \n",
    "    name = \"mse\"\n",
    ")\n",
    "\n",
    "# to compute the gradient, using a built-in tensor flow method\n",
    "optimizer = tf.train.GradientDescentOptimizer(learning_rate = learning_rate)\n",
    "training_op = optimizer.minimize(mse)\n",
    "\n",
    "init = tf.global_variables_initializer()\n",
    "thetas = []\n",
    "\n",
    "with tf.Session() as sess:\n",
    "\n",
    "    sess.run(init)\n",
    "    \n",
    "    for epoch in range(n_epochs):\n",
    "        \n",
    "        if epoch % 100 == 0:\n",
    "            print(\"Epoch\", epoch, \"MSE =\", mse.eval())\n",
    "            thetas.append(theta.eval())\n",
    "        sess.run(training_op)\n",
    "        "
   ]
  },
  {
   "cell_type": "markdown",
   "metadata": {},
   "source": [
    "We can see in the plot below, that with each epoch, the predicted values get a little bit better each time. However given the spread of all this data, a linear model is not really sufficient."
   ]
  },
  {
   "cell_type": "code",
   "execution_count": 10,
   "metadata": {},
   "outputs": [
    {
     "data": {
      "image/png": "[encoded data removed]",
      "text/plain": [
       "<matplotlib.figure.Figure at 0x1a249db470>"
      ]
     },
     "metadata": {},
     "output_type": "display_data"
    }
   ],
   "source": [
    "plt.figure(figsize=(15,12))\n",
    "plt.scatter(x_values, y_values)\n",
    "for i in np.arange(10): \n",
    "    y = thetas[i][0] + x_values * thetas[i][1]\n",
    "    plt.plot(x_values, y)\n",
    "plt.show()"
   ]
  },
  {
   "cell_type": "code",
   "execution_count": 11,
   "metadata": {},
   "outputs": [
    {
     "data": {
      "text/plain": [
       "[array([[0.87889075],\n",
       "        [0.14732146],\n",
       "        [0.8540497 ]], dtype=float32), array([[-5.1675007e+18],\n",
       "        [ 3.8180671e+12],\n",
       "        [-7.9067830e+21]], dtype=float32), array([[nan],\n",
       "        [nan],\n",
       "        [nan]], dtype=float32), array([[nan],\n",
       "        [nan],\n",
       "        [nan]], dtype=float32), array([[nan],\n",
       "        [nan],\n",
       "        [nan]], dtype=float32), array([[nan],\n",
       "        [nan],\n",
       "        [nan]], dtype=float32), array([[nan],\n",
       "        [nan],\n",
       "        [nan]], dtype=float32), array([[nan],\n",
       "        [nan],\n",
       "        [nan]], dtype=float32), array([[nan],\n",
       "        [nan],\n",
       "        [nan]], dtype=float32), array([[nan],\n",
       "        [nan],\n",
       "        [nan]], dtype=float32), array([[nan],\n",
       "        [nan],\n",
       "        [nan]], dtype=float32), array([[nan],\n",
       "        [nan],\n",
       "        [nan]], dtype=float32), array([[nan],\n",
       "        [nan],\n",
       "        [nan]], dtype=float32), array([[nan],\n",
       "        [nan],\n",
       "        [nan]], dtype=float32), array([[nan],\n",
       "        [nan],\n",
       "        [nan]], dtype=float32), array([[nan],\n",
       "        [nan],\n",
       "        [nan]], dtype=float32), array([[nan],\n",
       "        [nan],\n",
       "        [nan]], dtype=float32), array([[nan],\n",
       "        [nan],\n",
       "        [nan]], dtype=float32), array([[nan],\n",
       "        [nan],\n",
       "        [nan]], dtype=float32), array([[nan],\n",
       "        [nan],\n",
       "        [nan]], dtype=float32), array([[nan],\n",
       "        [nan],\n",
       "        [nan]], dtype=float32), array([[nan],\n",
       "        [nan],\n",
       "        [nan]], dtype=float32), array([[nan],\n",
       "        [nan],\n",
       "        [nan]], dtype=float32), array([[nan],\n",
       "        [nan],\n",
       "        [nan]], dtype=float32), array([[nan],\n",
       "        [nan],\n",
       "        [nan]], dtype=float32), array([[nan],\n",
       "        [nan],\n",
       "        [nan]], dtype=float32), array([[nan],\n",
       "        [nan],\n",
       "        [nan]], dtype=float32), array([[nan],\n",
       "        [nan],\n",
       "        [nan]], dtype=float32), array([[nan],\n",
       "        [nan],\n",
       "        [nan]], dtype=float32), array([[nan],\n",
       "        [nan],\n",
       "        [nan]], dtype=float32), array([[nan],\n",
       "        [nan],\n",
       "        [nan]], dtype=float32), array([[nan],\n",
       "        [nan],\n",
       "        [nan]], dtype=float32), array([[nan],\n",
       "        [nan],\n",
       "        [nan]], dtype=float32), array([[nan],\n",
       "        [nan],\n",
       "        [nan]], dtype=float32), array([[nan],\n",
       "        [nan],\n",
       "        [nan]], dtype=float32), array([[nan],\n",
       "        [nan],\n",
       "        [nan]], dtype=float32), array([[nan],\n",
       "        [nan],\n",
       "        [nan]], dtype=float32), array([[nan],\n",
       "        [nan],\n",
       "        [nan]], dtype=float32), array([[nan],\n",
       "        [nan],\n",
       "        [nan]], dtype=float32), array([[nan],\n",
       "        [nan],\n",
       "        [nan]], dtype=float32), array([[nan],\n",
       "        [nan],\n",
       "        [nan]], dtype=float32), array([[nan],\n",
       "        [nan],\n",
       "        [nan]], dtype=float32), array([[nan],\n",
       "        [nan],\n",
       "        [nan]], dtype=float32), array([[nan],\n",
       "        [nan],\n",
       "        [nan]], dtype=float32), array([[nan],\n",
       "        [nan],\n",
       "        [nan]], dtype=float32), array([[nan],\n",
       "        [nan],\n",
       "        [nan]], dtype=float32), array([[nan],\n",
       "        [nan],\n",
       "        [nan]], dtype=float32), array([[nan],\n",
       "        [nan],\n",
       "        [nan]], dtype=float32), array([[nan],\n",
       "        [nan],\n",
       "        [nan]], dtype=float32), array([[nan],\n",
       "        [nan],\n",
       "        [nan]], dtype=float32), array([[nan],\n",
       "        [nan],\n",
       "        [nan]], dtype=float32), array([[nan],\n",
       "        [nan],\n",
       "        [nan]], dtype=float32), array([[nan],\n",
       "        [nan],\n",
       "        [nan]], dtype=float32), array([[nan],\n",
       "        [nan],\n",
       "        [nan]], dtype=float32), array([[nan],\n",
       "        [nan],\n",
       "        [nan]], dtype=float32), array([[nan],\n",
       "        [nan],\n",
       "        [nan]], dtype=float32), array([[nan],\n",
       "        [nan],\n",
       "        [nan]], dtype=float32), array([[nan],\n",
       "        [nan],\n",
       "        [nan]], dtype=float32), array([[nan],\n",
       "        [nan],\n",
       "        [nan]], dtype=float32), array([[nan],\n",
       "        [nan],\n",
       "        [nan]], dtype=float32), array([[nan],\n",
       "        [nan],\n",
       "        [nan]], dtype=float32), array([[nan],\n",
       "        [nan],\n",
       "        [nan]], dtype=float32), array([[nan],\n",
       "        [nan],\n",
       "        [nan]], dtype=float32), array([[nan],\n",
       "        [nan],\n",
       "        [nan]], dtype=float32), array([[nan],\n",
       "        [nan],\n",
       "        [nan]], dtype=float32), array([[nan],\n",
       "        [nan],\n",
       "        [nan]], dtype=float32), array([[nan],\n",
       "        [nan],\n",
       "        [nan]], dtype=float32), array([[nan],\n",
       "        [nan],\n",
       "        [nan]], dtype=float32), array([[nan],\n",
       "        [nan],\n",
       "        [nan]], dtype=float32), array([[nan],\n",
       "        [nan],\n",
       "        [nan]], dtype=float32), array([[nan],\n",
       "        [nan],\n",
       "        [nan]], dtype=float32), array([[nan],\n",
       "        [nan],\n",
       "        [nan]], dtype=float32), array([[nan],\n",
       "        [nan],\n",
       "        [nan]], dtype=float32), array([[nan],\n",
       "        [nan],\n",
       "        [nan]], dtype=float32), array([[nan],\n",
       "        [nan],\n",
       "        [nan]], dtype=float32), array([[nan],\n",
       "        [nan],\n",
       "        [nan]], dtype=float32), array([[nan],\n",
       "        [nan],\n",
       "        [nan]], dtype=float32), array([[nan],\n",
       "        [nan],\n",
       "        [nan]], dtype=float32), array([[nan],\n",
       "        [nan],\n",
       "        [nan]], dtype=float32), array([[nan],\n",
       "        [nan],\n",
       "        [nan]], dtype=float32), array([[nan],\n",
       "        [nan],\n",
       "        [nan]], dtype=float32), array([[nan],\n",
       "        [nan],\n",
       "        [nan]], dtype=float32), array([[nan],\n",
       "        [nan],\n",
       "        [nan]], dtype=float32), array([[nan],\n",
       "        [nan],\n",
       "        [nan]], dtype=float32), array([[nan],\n",
       "        [nan],\n",
       "        [nan]], dtype=float32), array([[nan],\n",
       "        [nan],\n",
       "        [nan]], dtype=float32), array([[nan],\n",
       "        [nan],\n",
       "        [nan]], dtype=float32), array([[nan],\n",
       "        [nan],\n",
       "        [nan]], dtype=float32), array([[nan],\n",
       "        [nan],\n",
       "        [nan]], dtype=float32), array([[nan],\n",
       "        [nan],\n",
       "        [nan]], dtype=float32), array([[nan],\n",
       "        [nan],\n",
       "        [nan]], dtype=float32), array([[nan],\n",
       "        [nan],\n",
       "        [nan]], dtype=float32), array([[nan],\n",
       "        [nan],\n",
       "        [nan]], dtype=float32), array([[nan],\n",
       "        [nan],\n",
       "        [nan]], dtype=float32), array([[nan],\n",
       "        [nan],\n",
       "        [nan]], dtype=float32), array([[nan],\n",
       "        [nan],\n",
       "        [nan]], dtype=float32), array([[nan],\n",
       "        [nan],\n",
       "        [nan]], dtype=float32), array([[nan],\n",
       "        [nan],\n",
       "        [nan]], dtype=float32), array([[nan],\n",
       "        [nan],\n",
       "        [nan]], dtype=float32), array([[nan],\n",
       "        [nan],\n",
       "        [nan]], dtype=float32)]"
      ]
     },
     "execution_count": 11,
     "metadata": {},
     "output_type": "execute_result"
    }
   ],
   "source": [
    "thetas"
   ]
  }
 ],
 "metadata": {
  "kernelspec": {
   "display_name": "Python 3",
   "language": "python",
   "name": "python3"
  },
  "language_info": {
   "codemirror_mode": {
    "name": "ipython",
    "version": 3
   },
   "file_extension": ".py",
   "mimetype": "text/x-python",
   "name": "python",
   "nbconvert_exporter": "python",
   "pygments_lexer": "ipython3",
   "version": "3.6.4"
  }
 },
 "nbformat": 4,
 "nbformat_minor": 2
}
