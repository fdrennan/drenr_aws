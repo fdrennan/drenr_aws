{
 "cells": [
  {
   "cell_type": "markdown",
   "metadata": {},
   "source": [
    "## Datacamp Problem\n",
    "\n",
    "You are walking up the empire state building and want to play a game with a friend.\n",
    "\n",
    "You will roll a die 100 times.\n",
    "\n",
    "If it is a 1 or 2, you go one step down. \n",
    "\n",
    "If it is 3, 4, or 5, you go one step up.\n",
    "\n",
    "If you roll a 6, you get to roll one more time and take the resulting value and walk up that many steps.\n",
    "\n",
    "You can't go less than 0. \n",
    "\n",
    "You have a 0.1% chance of starting from the beginning, 'falling down the stairs', in each roll.\n",
    "\n",
    "Bet you will reach 60 steps high.\n",
    "\n",
    "What is the probability that you will win?"
   ]
  },
  {
   "cell_type": "code",
   "execution_count": 9,
   "metadata": {},
   "outputs": [],
   "source": [
    "import numpy as np\n",
    "from random import randint"
   ]
  },
  {
   "cell_type": "code",
   "execution_count": 193,
   "metadata": {},
   "outputs": [
    {
     "data": {
      "text/plain": [
       "0.91"
      ]
     },
     "execution_count": 193,
     "metadata": {},
     "output_type": "execute_result"
    }
   ],
   "source": [
    "values = [0]\n",
    "def run_prob():\n",
    "    for i in range(100):\n",
    "        fall = randint(1, 1000) == 1\n",
    "        if fall:\n",
    "            values[0] = 0\n",
    "        else:\n",
    "            die = randint(1, 6)\n",
    "            if (die >= 1) and (die <= 2):\n",
    "                values[0] = max(values[0] - 1, 0)\n",
    "            elif (die >= 3) and (die <= 5):\n",
    "                values[0] = values[0] + 1\n",
    "            else:\n",
    "                values[0] = values[0] + randint(1, 6)\n",
    "    return values[0]\n",
    "    \n",
    "solution = []\n",
    "for i in range(500):\n",
    "    solution.append(run_prob() >= 60)\n",
    "sum(solution)/len(solution)"
   ]
  }
 ],
 "metadata": {
  "kernelspec": {
   "display_name": "Python 3",
   "language": "python",
   "name": "python3"
  },
  "language_info": {
   "codemirror_mode": {
    "name": "ipython",
    "version": 3
   },
   "file_extension": ".py",
   "mimetype": "text/x-python",
   "name": "python",
   "nbconvert_exporter": "python",
   "pygments_lexer": "ipython3",
   "version": "3.6.4"
  }
 },
 "nbformat": 4,
 "nbformat_minor": 2
}
