{
 "cells": [
  {
   "cell_type": "code",
   "execution_count": 1,
   "metadata": {},
   "outputs": [
    {
     "name": "stderr",
     "output_type": "stream",
     "text": [
      "/Library/Frameworks/Python.framework/Versions/3.5/lib/python3.5/importlib/_bootstrap.py:222: RuntimeWarning: compiletime version 3.6 of module 'tensorflow.python.framework.fast_tensor_util' does not match runtime version 3.5\n",
      "  return f(*args, **kwds)\n"
     ]
    }
   ],
   "source": [
    "import tensorflow as tf # Import tensorflow \n",
    "import matplotlib.pyplot as plt\n",
    "import numpy as np\n",
    "\n",
    "import plotly.plotly as py\n",
    "import plotly.graph_objs as go"
   ]
  },
  {
   "cell_type": "code",
   "execution_count": 2,
   "metadata": {},
   "outputs": [],
   "source": [
    "def f(M): \n",
    "    x, y = M[0], M[1]\n",
    "    return (x-3)**2 + (y+4)**2\n",
    "\n",
    "initial_value = np.array([10, 10], np.float32)      # Starting value for gradient descent\n",
    "step_range = .1                      # How quickly the optimizer moves in the negative direction of the derivative\n",
    "n_steps = 100                         # How many times tensorflow will run the optimizer. \n",
    "maximize = False"
   ]
  },
  {
   "cell_type": "code",
   "execution_count": 3,
   "metadata": {},
   "outputs": [
    {
     "name": "stdout",
     "output_type": "stream",
     "text": [
      "X value: 10.0\tY value: 10.0\tLoss: 245.0\n",
      "X value: 3.7516193\tY value: -2.4967616\tLoss: 2.8246574\n",
      "X value: 3.0807045\tY value: -3.838591\tLoss: 0.03256604\n",
      "X value: 3.0086656\tY value: -3.9826689\tLoss: 0.0003754598\n",
      "X value: 3.0009303\tY value: -3.9981391\tLoss: 4.3282644e-06\n",
      "X value: 3.0000997\tY value: -3.9998002\tLoss: 4.984986e-08\n",
      "X value: 3.0000107\tY value: -3.9999785\tLoss: 5.755396e-10\n",
      "X value: 3.0000012\tY value: -3.9999976\tLoss: 7.1054274e-12\n",
      "X value: 3.0000005\tY value: -3.9999995\tLoss: 4.5474735e-13\n",
      "X value: 3.0000005\tY value: -3.9999995\tLoss: 4.5474735e-13\n"
     ]
    }
   ],
   "source": [
    "\n",
    "if maximize:\n",
    "    direction = -1\n",
    "else:\n",
    "    direction = 1\n",
    "\n",
    "# Initialize x. This is the variable that Tensorflow \n",
    "# Will manipulate in order to minimize the function.\n",
    "M = tf.Variable(initial_value, trainable=True)\n",
    "\n",
    "# Loss is just the result of the function. In a machine learning problem, the function could describe how \n",
    "# well our predictions are. High error would result in a large value from the function - something we'd want to minimize.\n",
    "# Direction determines if we're trying to minimize or maximize the function. I.e, minimize negative loss. \n",
    "loss = direction * f(M) \n",
    "\n",
    "# Here we specify how quickly we want to optimize and specify the function, loss, we want to minimize. \n",
    "opt = tf.train.GradientDescentOptimizer(step_range).minimize(loss)\n",
    "\n",
    "# Make a list to store the x values as we leave from the initial value on to a value that minimizes the function.\n",
    "x_values = []\n",
    "# Store the value of the function at the given x values above for plotting. \n",
    "y_values = []\n",
    "z_values = []\n",
    "\n",
    "# Start a tensorflow session\n",
    "with tf.Session() as sess:\n",
    "    # Clear the cache of any variables and initialize tf. \n",
    "    sess.run(tf.global_variables_initializer())\n",
    "    \n",
    "    # Run the optimzer n_steps times. \n",
    "    for i in range(n_steps):\n",
    "\n",
    "        # Store the current value of x\n",
    "        x_values.append(sess.run(M[0]))\n",
    "        y_values.append(sess.run(M[1]))\n",
    "        z_values.append(sess.run(loss))\n",
    "        \n",
    "        if (i % 10) == 0:\n",
    "            # Print x and loss to see how the optimizer is running. \n",
    "            # Makes it easy to notice when the loss function is blowing up.\n",
    "            print(\"X value: \" + str(sess.run(M[0])) + \"\\t\" + \n",
    "                  \"Y value: \" + str(sess.run(M[1])) + \"\\t\" + \"Loss: \" + str(sess.run(loss)))\n",
    "        \n",
    "        # Actually update x to a value closer to the minimized value\n",
    "        sess.run(opt)"
   ]
  },
  {
   "cell_type": "code",
   "execution_count": 4,
   "metadata": {},
   "outputs": [],
   "source": [
    "grid = np.meshgrid(np.linspace(-15, 15, 100), np.linspace(-15, 15, 100))"
   ]
  },
  {
   "cell_type": "code",
   "execution_count": 5,
   "metadata": {},
   "outputs": [],
   "source": [
    "res = f(grid)"
   ]
  },
  {
   "cell_type": "code",
   "execution_count": 10,
   "metadata": {},
   "outputs": [
    {
     "data": {
      "text/html": [
       "<iframe id=\"igraph\" scrolling=\"no\" style=\"border:none;\" seamless=\"seamless\" src=\"https://plot.ly/~fdren/32.embed\" height=\"500px\" width=\"500px\"></iframe>"
      ],
      "text/plain": [
       "<plotly.tools.PlotlyDisplay object>"
      ]
     },
     "execution_count": 10,
     "metadata": {},
     "output_type": "execute_result"
    }
   ],
   "source": [
    "layout = go.Layout(\n",
    "    title='Mt Bruno Elevation',\n",
    "    autosize=False,\n",
    "    width=500,\n",
    "    height=500,\n",
    "    margin=dict(\n",
    "        l=0,\n",
    "        r=0,\n",
    "        b=0,\n",
    "        t=0\n",
    "    )\n",
    ")\n",
    "\n",
    "trace1 = go.Scatter3d(\n",
    "    x = x_values,\n",
    "    y = y_values,\n",
    "    z = z_values,\n",
    "    mode='markers',\n",
    "    marker=dict(\n",
    "        size=3,\n",
    "        line=dict(\n",
    "            color='rgba(217, 217, 217, 0.14)',\n",
    "            width=1.5\n",
    "        )\n",
    "    )\n",
    ")\n",
    "\n",
    "trace = go.Surface(x = grid[0], \n",
    "                   y = grid[1], \n",
    "                   z=res,\n",
    "                   opacity=0.6)\n",
    "\n",
    "data = [trace, trace1]\n",
    "\n",
    "\n",
    "fig = go.Figure(data=data, layout=layout)\n",
    "py.iplot(fig, filename='elevations-3d-surface')"
   ]
  }
 ],
 "metadata": {
  "kernelspec": {
   "display_name": "Python 3",
   "language": "python",
   "name": "python3"
  },
  "language_info": {
   "codemirror_mode": {
    "name": "ipython",
    "version": 3
   },
   "file_extension": ".py",
   "mimetype": "text/x-python",
   "name": "python",
   "nbconvert_exporter": "python",
   "pygments_lexer": "ipython3",
   "version": "3.5.4"
  }
 },
 "nbformat": 4,
 "nbformat_minor": 2
}
