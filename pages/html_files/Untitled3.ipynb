{
 "cells": [
  {
   "cell_type": "code",
   "execution_count": null,
   "metadata": {},
   "outputs": [],
   "source": [
    "from facebookads.adobjects.adset import AdSet\n",
    "\n",
    "adset = AdSet(fbid=<AD_SET_ID>)\n",
    "fields = [\n",
    "    AdSet.Field.name,\n",
    "    AdSet.Field.configured_status,\n",
    "    AdSet.Field.effective_status,\n",
    "]\n",
    "adset.remote_read(fields=fields)\n",
    "print(adset[AdSet.Field.name])\n",
    "print(adset[AdSet.Field.configured_status])\n",
    "print(adset[AdSet.Field.effective_status])"
   ]
  }
 ],
 "metadata": {
  "kernelspec": {
   "display_name": "Python 3",
   "language": "python",
   "name": "python3"
  },
  "language_info": {
   "codemirror_mode": {
    "name": "ipython",
    "version": 3
   },
   "file_extension": ".py",
   "mimetype": "text/x-python",
   "name": "python",
   "nbconvert_exporter": "python",
   "pygments_lexer": "ipython3",
   "version": "3.6.4"
  }
 },
 "nbformat": 4,
 "nbformat_minor": 2
}
