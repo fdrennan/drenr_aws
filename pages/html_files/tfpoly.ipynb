{
 "cells": [
  {
   "cell_type": "markdown",
   "metadata": {},
   "source": [
    "## Simple Linear Regression Using Tensorflow\n",
    "\n",
    "Examples modified from Hands-On Machine Learning with Scikit-Learn & Tensorflow"
   ]
  },
  {
   "cell_type": "markdown",
   "metadata": {},
   "source": [
    "Using some matrix algebra we can calculate coefficients for a linear regression model. Theta is this vector and it is calculated with the formula below where $X$ is a matrix of features and $y$ is the label vector. We will run this model below using Tensorflow.\n",
    "\n",
    "$$\n",
    "\\hat{\\theta} = (X^T\\cdot X)^{-1}\\cdot X^{T}\\cdot y\n",
    "$$"
   ]
  },
  {
   "cell_type": "code",
   "execution_count": 1,
   "metadata": {},
   "outputs": [
    {
     "name": "stderr",
     "output_type": "stream",
     "text": [
      "/anaconda3/lib/python3.6/site-packages/h5py/__init__.py:36: FutureWarning: Conversion of the second argument of issubdtype from `float` to `np.floating` is deprecated. In future, it will be treated as `np.float64 == np.dtype(float).type`.\n",
      "  from ._conv import register_converters as _register_converters\n"
     ]
    }
   ],
   "source": [
    "import numpy as np\n",
    "from sklearn.datasets import fetch_california_housing\n",
    "import tensorflow as tf\n",
    "import pandas as pd\n",
    "import matplotlib.pyplot as plt\n",
    "%matplotlib inline\n",
    "\n",
    "import tensorflow as tf"
   ]
  },
  {
   "cell_type": "code",
   "execution_count": 2,
   "metadata": {},
   "outputs": [],
   "source": [
    "n_values = 100"
   ]
  },
  {
   "cell_type": "code",
   "execution_count": 3,
   "metadata": {},
   "outputs": [],
   "source": [
    "x_values = np.linspace(-50, 50, n_values)\n",
    "y_values = 10 + 2*x_values**2 + 3*x_values**3 + np.random.normal(40000, 40000, n_values)\n",
    "# y_values = 10 + 2*x_values"
   ]
  },
  {
   "cell_type": "code",
   "execution_count": 4,
   "metadata": {},
   "outputs": [
    {
     "data": {
      "text/plain": [
       "<matplotlib.collections.PathCollection at 0x1a21ecdef0>"
      ]
     },
     "execution_count": 4,
     "metadata": {},
     "output_type": "execute_result"
    },
    {
     "data": {
      "image/png": "[encoded data removed]",
      "text/plain": [
       "<matplotlib.figure.Figure at 0x1a18f95780>"
      ]
     },
     "metadata": {},
     "output_type": "display_data"
    }
   ],
   "source": [
    "plt.scatter(x_values, y_values)"
   ]
  },
  {
   "cell_type": "code",
   "execution_count": 5,
   "metadata": {},
   "outputs": [],
   "source": [
    "df = pd.DataFrame(data = [x_values, x_values**2, y_values]).T\n",
    "df = df.rename(columns = {0: 'x', 1: 'x_square', 2: 'y'})"
   ]
  },
  {
   "cell_type": "code",
   "execution_count": 6,
   "metadata": {},
   "outputs": [],
   "source": [
    "m, n = df.shape"
   ]
  },
  {
   "cell_type": "markdown",
   "metadata": {},
   "source": [
    "We add a row of ones. This will give us a y intercept."
   ]
  },
  {
   "cell_type": "code",
   "execution_count": 7,
   "metadata": {},
   "outputs": [],
   "source": [
    "df_plus_bias = np.c_[np.ones((m, 1)), df]\n",
    "df_features = df_plus_bias[:,:3]\n",
    "df_target = df_plus_bias[:, 3:4]"
   ]
  },
  {
   "cell_type": "markdown",
   "metadata": {},
   "source": [
    "Next will actually run the model we built above."
   ]
  },
  {
   "cell_type": "markdown",
   "metadata": {},
   "source": [
    "The theta output is shown below. The first value is the intercept."
   ]
  },
  {
   "cell_type": "markdown",
   "metadata": {},
   "source": [
    "We can visualize our predicted values versus the actual values. Perfectly predicted values will result in a straight-line."
   ]
  },
  {
   "cell_type": "markdown",
   "metadata": {},
   "source": [
    "## Implementing Gradient Descent\n",
    "\n",
    "### Manually Computing the Gradients"
   ]
  },
  {
   "cell_type": "code",
   "execution_count": 8,
   "metadata": {},
   "outputs": [],
   "source": [
    "n_epochs = 1000\n",
    "learning_rate = 0.001"
   ]
  },
  {
   "cell_type": "code",
   "execution_count": 9,
   "metadata": {},
   "outputs": [
    {
     "name": "stdout",
     "output_type": "stream",
     "text": [
      "Epoch 0 MSE = 24881844000.0\n",
      "Epoch 100 MSE = nan\n",
      "Epoch 200 MSE = nan\n",
      "Epoch 300 MSE = nan\n",
      "Epoch 400 MSE = nan\n",
      "Epoch 500 MSE = nan\n",
      "Epoch 600 MSE = nan\n",
      "Epoch 700 MSE = nan\n",
      "Epoch 800 MSE = nan\n",
      "Epoch 900 MSE = nan\n"
     ]
    }
   ],
   "source": [
    "# X is the matrix that contains all of our independent features.\n",
    "X = tf.constant(\n",
    "    df_features,\n",
    "    dtype=tf.float32,\n",
    "    name = \"X\"\n",
    ")\n",
    "\n",
    "# y contains a vector of correct values for the features\n",
    "y = tf.constant(\n",
    "    df_target.reshape(-1, 1),\n",
    "    dtype=tf.float32,\n",
    "    name = \"y\"\n",
    ")\n",
    "\n",
    "# theta is initialized with random numbers\n",
    "# this is what the algorithm will vary to create a solution\n",
    "theta = tf.Variable(\n",
    "    tf.random_uniform([2 + 1, 1], -1.0, 1.0),\n",
    "    name = \"theta\"\n",
    ")\n",
    "\n",
    "# using matrix multiplication, we get a predicted y value\n",
    "y_pred = tf.matmul(X, theta, name = \"predictions\")\n",
    "\n",
    "# the prediction error is the difference between the true value and the predicted value\n",
    "error = y_pred - y\n",
    "\n",
    "# Computes the mean of elements across dimensions of a tensor\n",
    "# this is what we want to minimize - RMSE\n",
    "mse = tf.reduce_mean(\n",
    "    tf.square(error), \n",
    "    name = \"mse\"\n",
    ")\n",
    "\n",
    "# to compute the gradient, using a built-in tensor flow method\n",
    "optimizer = tf.train.GradientDescentOptimizer(learning_rate = learning_rate)\n",
    "training_op = optimizer.minimize(mse)\n",
    "\n",
    "init = tf.global_variables_initializer()\n",
    "thetas = []\n",
    "\n",
    "with tf.Session() as sess:\n",
    "\n",
    "    sess.run(init)\n",
    "    \n",
    "    for epoch in range(n_epochs):\n",
    "        \n",
    "        if epoch % 100 == 0:\n",
    "            print(\"Epoch\", epoch, \"MSE =\", mse.eval())\n",
    "            thetas.append(theta.eval())\n",
    "        sess.run(training_op)\n",
    "        "
   ]
  },
  {
   "cell_type": "markdown",
   "metadata": {},
   "source": [
    "We can see in the plot below, that with each epoch, the predicted values get a little bit better each time. However given the spread of all this data, a linear model is not really sufficient."
   ]
  },
  {
   "cell_type": "code",
   "execution_count": 10,
   "metadata": {},
   "outputs": [
    {
     "data": {
      "image/png": "[encoded data removed]",
      "text/plain": [
       "<matplotlib.figure.Figure at 0x1a21edf748>"
      ]
     },
     "metadata": {},
     "output_type": "display_data"
    }
   ],
   "source": [
    "plt.figure(figsize=(15,12))\n",
    "plt.scatter(x_values, y_values)\n",
    "for i in np.arange(10): \n",
    "    y = thetas[i][0] + x_values * thetas[i][1]\n",
    "    plt.plot(x_values, y)\n",
    "plt.show()"
   ]
  },
  {
   "cell_type": "code",
   "execution_count": 11,
   "metadata": {},
   "outputs": [
    {
     "data": {
      "text/plain": [
       "[array([[-0.16851974],\n",
       "        [-0.86200094],\n",
       "        [ 0.2125547 ]], dtype=float32), array([[nan],\n",
       "        [nan],\n",
       "        [nan]], dtype=float32), array([[nan],\n",
       "        [nan],\n",
       "        [nan]], dtype=float32), array([[nan],\n",
       "        [nan],\n",
       "        [nan]], dtype=float32), array([[nan],\n",
       "        [nan],\n",
       "        [nan]], dtype=float32), array([[nan],\n",
       "        [nan],\n",
       "        [nan]], dtype=float32), array([[nan],\n",
       "        [nan],\n",
       "        [nan]], dtype=float32), array([[nan],\n",
       "        [nan],\n",
       "        [nan]], dtype=float32), array([[nan],\n",
       "        [nan],\n",
       "        [nan]], dtype=float32), array([[nan],\n",
       "        [nan],\n",
       "        [nan]], dtype=float32)]"
      ]
     },
     "execution_count": 11,
     "metadata": {},
     "output_type": "execute_result"
    }
   ],
   "source": [
    "thetas"
   ]
  }
 ],
 "metadata": {
  "kernelspec": {
   "display_name": "Python 3",
   "language": "python",
   "name": "python3"
  },
  "language_info": {
   "codemirror_mode": {
    "name": "ipython",
    "version": 3
   },
   "file_extension": ".py",
   "mimetype": "text/x-python",
   "name": "python",
   "nbconvert_exporter": "python",
   "pygments_lexer": "ipython3",
   "version": "3.6.4"
  }
 },
 "nbformat": 4,
 "nbformat_minor": 2
}
