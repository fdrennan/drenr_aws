{
 "cells": [
  {
   "cell_type": "markdown",
   "metadata": {},
   "source": [
    "An intersting weather API I found here: https://github.com/csparpa/pyowm.\n",
    "\n",
    "Yes, that is my API token. No I don't care if you use it. Don't abuse it. Don't be an ass. : ) "
   ]
  },
  {
   "cell_type": "code",
   "execution_count": 6,
   "metadata": {
    "collapsed": false
   },
   "outputs": [],
   "source": [
    "import pyowm\n",
    "\n",
    "owm = pyowm.OWM('c96c5e2a76372d1ed81578325adbccf7')  # You MUST provide a valid API key"
   ]
  },
  {
   "cell_type": "code",
   "execution_count": 7,
   "metadata": {
    "collapsed": false
   },
   "outputs": [
    {
     "name": "stdout",
     "output_type": "stream",
     "text": [
      "<pyowm.webapi25.weather.Weather - reference time=2018-06-15 03:42:00+00, status=Clear>\n"
     ]
    }
   ],
   "source": [
    "# Search for current weather in London (Great Britain)\n",
    "observation = owm.weather_at_place('Denver,US')\n",
    "w = observation.get_weather()\n",
    "print(w)                      "
   ]
  },
  {
   "cell_type": "code",
   "execution_count": 8,
   "metadata": {
    "collapsed": false
   },
   "outputs": [
    {
     "data": {
      "text/plain": [
       "{'deg': 90, 'speed': 4.1}"
      ]
     },
     "execution_count": 8,
     "metadata": {},
     "output_type": "execute_result"
    }
   ],
   "source": [
    "# Weather details\n",
    "w.get_wind()                  "
   ]
  },
  {
   "cell_type": "code",
   "execution_count": 9,
   "metadata": {
    "collapsed": false
   },
   "outputs": [
    {
     "data": {
      "text/plain": [
       "20"
      ]
     },
     "execution_count": 9,
     "metadata": {},
     "output_type": "execute_result"
    }
   ],
   "source": [
    "w.get_humidity()              "
   ]
  },
  {
   "cell_type": "code",
   "execution_count": 10,
   "metadata": {
    "collapsed": false
   },
   "outputs": [
    {
     "data": {
      "text/plain": [
       "{'temp': 75.0, 'temp_kf': None, 'temp_max': 78.8, 'temp_min': 62.6}"
      ]
     },
     "execution_count": 10,
     "metadata": {},
     "output_type": "execute_result"
    }
   ],
   "source": [
    "w.get_temperature('fahrenheit')  "
   ]
  }
 ],
 "metadata": {
  "anaconda-cloud": {},
  "kernelspec": {
   "display_name": "Python [anaconda3]",
   "language": "python",
   "name": "Python [anaconda3]"
  },
  "language_info": {
   "codemirror_mode": {
    "name": "ipython",
    "version": 3
   },
   "file_extension": ".py",
   "mimetype": "text/x-python",
   "name": "python",
   "nbconvert_exporter": "python",
   "pygments_lexer": "ipython3",
   "version": "3.5.4"
  }
 },
 "nbformat": 4,
 "nbformat_minor": 0
}
