{
 "cells": [
  {
   "cell_type": "code",
   "execution_count": 1,
   "metadata": {},
   "outputs": [
    {
     "name": "stderr",
     "output_type": "stream",
     "text": [
      "/Library/Frameworks/Python.framework/Versions/3.5/lib/python3.5/importlib/_bootstrap.py:222: RuntimeWarning: compiletime version 3.6 of module 'tensorflow.python.framework.fast_tensor_util' does not match runtime version 3.5\n",
      "  return f(*args, **kwds)\n"
     ]
    }
   ],
   "source": [
    "import tensorflow as tf # Import tensorflow \n",
    "import matplotlib.pyplot as plt\n",
    "import numpy as np\n",
    "\n",
    "import plotly.plotly as py\n",
    "import plotly.graph_objs as go"
   ]
  },
  {
   "cell_type": "code",
   "execution_count": 3,
   "metadata": {},
   "outputs": [],
   "source": [
    "f  = lambda x, y: (x-3)**2 + (y-4)**2 # Define f\n",
    "df = lambda x, y: 2*(x-3)+2*(y+4)     # Define df/dx\n",
    "initial_value = np.array([2, 3])      # Starting value for gradient descent\n",
    "step_range = .01                      # How quickly the optimizer moves in the negative direction of the derivative\n",
    "n_steps = 100                         # How many times tensorflow will run the optimizer. \n",
    "maximize = False"
   ]
  },
  {
   "cell_type": "code",
   "execution_count": null,
   "metadata": {},
   "outputs": [],
   "source": [
    "if maximize:\n",
    "    direction = -1\n",
    "else:\n",
    "    direction = 1\n",
    "\n",
    "# Initialize x. This is the variable that Tensorflow \n",
    "# Will manipulate in order to minimize the function.\n",
    "x = tf.Variable(initial_value, trainable=True)\n",
    "\n",
    "# Loss is just the result of the function. In a machine learning problem, the function could describe how \n",
    "# well our predictions are. High error would result in a large value from the function - something we'd want to minimize.\n",
    "# Direction determines if we're trying to minimize or maximize the function. I.e, minimize negative loss. \n",
    "loss = direction * f(x) \n",
    "\n",
    "# Here we specify how quickly we want to optimize and specify the function, loss, we want to minimize. \n",
    "opt = tf.train.GradientDescentOptimizer(step_range).minimize(loss)\n",
    "\n",
    "# Make a list to store the x values as we leave from the initial value on to a value that minimizes the function.\n",
    "x_values = []\n",
    "# Store the value of the function at the given x values above for plotting. \n",
    "y_values = []\n",
    "\n",
    "# Start a tensorflow session\n",
    "with tf.Session() as sess:\n",
    "    # Clear the cache of any variables and initialize tf. \n",
    "    sess.run(tf.global_variables_initializer())\n",
    "    \n",
    "    # Run the optimzer n_steps times. \n",
    "    for i in range(n_steps):\n",
    "\n",
    "        # Store the current value of x\n",
    "        x_values.append(sess.run(x))\n",
    "        y_values.append(sess.run(loss))\n",
    "        \n",
    "        if (i % 10) == 0:\n",
    "            # Print x and loss to see how the optimizer is running. \n",
    "            # Makes it easy to notice when the loss function is blowing up.\n",
    "            print(\"X value: \" + str(sess.run(x)) + \"\\t\" + \"Loss: \" + str(sess.run(loss)))\n",
    "        \n",
    "        # Actually update x to a value closer to the minimized value\n",
    "        sess.run(opt)"
   ]
  }
 ],
 "metadata": {
  "kernelspec": {
   "display_name": "Python 3",
   "language": "python",
   "name": "python3"
  },
  "language_info": {
   "codemirror_mode": {
    "name": "ipython",
    "version": 3
   },
   "file_extension": ".py",
   "mimetype": "text/x-python",
   "name": "python",
   "nbconvert_exporter": "python",
   "pygments_lexer": "ipython3",
   "version": "3.5.4"
  }
 },
 "nbformat": 4,
 "nbformat_minor": 2
}
